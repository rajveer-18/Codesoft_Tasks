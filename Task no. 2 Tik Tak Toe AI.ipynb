{
  "nbformat": 4,
  "nbformat_minor": 0,
  "metadata": {
    "colab": {
      "provenance": []
    },
    "kernelspec": {
      "name": "python3",
      "display_name": "Python 3"
    },
    "language_info": {
      "name": "python"
    }
  },
  "cells": [
    {
      "cell_type": "code",
      "execution_count": 1,
      "metadata": {
        "id": "SBxQpmrHklas"
      },
      "outputs": [],
      "source": [
        "import numpy as nm\n",
        "import matplotlib.pyplot as mtp\n",
        "import pandas as pd"
      ]
    },
    {
      "cell_type": "code",
      "source": [
        "import math\n",
        "\n",
        "class TicTacToe:\n",
        "    def __init__(self):\n",
        "        self.board = [' ' for _ in range(9)]  # Represents 3x3 board\n",
        "\n",
        "    def print_board(self):\n",
        "        for row in [self.board[i*3:(i+1)*3] for i in range(3)]:\n",
        "            print('| ' + ' | '.join(row) + ' |')\n",
        "\n",
        "    def available_moves(self):\n",
        "        return [i for i, spot in enumerate(self.board) if spot == ' ']\n",
        "\n",
        "    def num_empty_squares(self):\n",
        "        return self.board.count(' ')\n",
        "\n",
        "    def make_move(self, square, letter):\n",
        "        self.board[square] = letter\n",
        "\n",
        "    def is_winner(self, letter):\n",
        "        # Check rows\n",
        "        for i in range(0, 9, 3):\n",
        "            if all(self.board[i+j] == letter for j in range(3)):\n",
        "                return True\n",
        "        # Check columns\n",
        "        for i in range(3):\n",
        "            if all(self.board[i+j] == letter for j in range(0, 9, 3)):\n",
        "                return True\n",
        "        # Check diagonals\n",
        "        if all(self.board[i] == letter for i in range(0, 9, 4)):\n",
        "            return True\n",
        "        if all(self.board[i] == letter for i in range(2, 7, 2)):\n",
        "            return True\n",
        "        return False\n",
        "\n",
        "    def minimax(self, depth, maximizing_player):\n",
        "        if self.is_winner('O'):\n",
        "            return {'score': 1}\n",
        "        elif self.is_winner('X'):\n",
        "            return {'score': -1}\n",
        "        elif self.num_empty_squares() == 0:\n",
        "            return {'score': 0}\n",
        "\n",
        "        if maximizing_player:\n",
        "            max_eval = {'score': -math.inf}\n",
        "            for move in self.available_moves():\n",
        "                self.make_move(move, 'O')\n",
        "                eval = self.minimax(depth + 1, False)\n",
        "                self.make_move(move, ' ')\n",
        "                eval['move'] = move\n",
        "                max_eval = max(max_eval, eval, key=lambda x: x['score'])\n",
        "            return max_eval\n",
        "        else:\n",
        "            min_eval = {'score': math.inf}\n",
        "            for move in self.available_moves():\n",
        "                self.make_move(move, 'X')\n",
        "                eval = self.minimax(depth + 1, True)\n",
        "                self.make_move(move, ' ')\n",
        "                eval['move'] = move\n",
        "                min_eval = min(min_eval, eval, key=lambda x: x['score'])\n",
        "            return min_eval\n",
        "\n",
        "    def best_move(self):\n",
        "        if self.num_empty_squares() == 9:\n",
        "            return 4  # Start with the center if available\n",
        "\n",
        "        move = self.minimax(0, True)['move']\n",
        "        return move\n",
        "\n",
        "def main():\n",
        "    game = TicTacToe()\n",
        "    game.print_board()\n",
        "\n",
        "    while game.num_empty_squares() > 0:\n",
        "        if game.num_empty_squares() % 2 == 1:  # Human's turn\n",
        "            human_move = int(input(\"Enter your move (0-8): \"))\n",
        "            game.make_move(human_move, 'X')\n",
        "        else:  # AI's turn\n",
        "            ai_move = game.best_move()\n",
        "            game.make_move(ai_move, 'O')\n",
        "            print(f\"AI plays move: {ai_move}\")\n",
        "\n",
        "        game.print_board()\n",
        "\n",
        "        if game.is_winner('X'):\n",
        "            print(\"You win!\")\n",
        "            break\n",
        "        elif game.is_winner('O'):\n",
        "            print(\"AI wins!\")\n",
        "            break\n",
        "        elif game.num_empty_squares() == 0:\n",
        "            print(\"It's a draw!\")\n",
        "\n",
        "if __name__ == '__main__':\n",
        "    main()\n"
      ],
      "metadata": {
        "colab": {
          "base_uri": "https://localhost:8080/"
        },
        "id": "3MRtV52Qb3et",
        "outputId": "5dd864e1-a79b-4d56-f8a4-fe17a567ecf2"
      },
      "execution_count": 3,
      "outputs": [
        {
          "output_type": "stream",
          "name": "stdout",
          "text": [
            "|   |   |   |\n",
            "|   |   |   |\n",
            "|   |   |   |\n",
            "|   | X |   |\n",
            "|   |   |   |\n",
            "|   |   |   |\n",
            "AI plays move: 0\n",
            "| O | X |   |\n",
            "|   |   |   |\n",
            "|   |   |   |\n",
            "| O | X | X |\n",
            "|   |   |   |\n",
            "|   |   |   |\n",
            "AI plays move: 3\n",
            "| O | X | X |\n",
            "| O |   |   |\n",
            "|   |   |   |\n",
            "| O | X | X |\n",
            "| O |   |   |\n",
            "| X |   |   |\n",
            "AI plays move: 4\n",
            "| O | X | X |\n",
            "| O | O |   |\n",
            "| X |   |   |\n",
            "Enter your move (0-8): 5\n",
            "| O | X | X |\n",
            "| O | O | X |\n",
            "| X |   |   |\n",
            "AI plays move: 8\n",
            "| O | X | X |\n",
            "| O | O | X |\n",
            "| X |   | O |\n",
            "AI wins!\n"
          ]
        }
      ]
    },
    {
      "cell_type": "code",
      "source": [],
      "metadata": {
        "id": "Iqea-fhz1rqU"
      },
      "execution_count": null,
      "outputs": []
    }
  ]
}