{
 "cells": [
  {
   "cell_type": "code",
   "execution_count": 13,
   "id": "087b8df9-7797-4445-9b7a-9176fa0560be",
   "metadata": {},
   "outputs": [],
   "source": [
    "import re"
   ]
  },
  {
   "cell_type": "code",
   "execution_count": 15,
   "id": "f99f7561-926e-4b3b-8875-e8cc579b5d77",
   "metadata": {},
   "outputs": [],
   "source": [
    "def get_response(user_input):\n",
    "    user_input = user_input.lower().strip()\n",
    "\n",
    "    if re.search(r'\\bhello\\b|\\bhi\\b|\\bhey\\b', user_input):\n",
    "        return \"Hello! How can I assist you today?\"\n",
    "    elif re.search(r'\\bhow are you\\b|\\bhow are you doing\\b', user_input):\n",
    "        return \"I'm just a bot, but I'm here to help you! How can I assist you today?\"\n",
    "    elif re.search(r'\\bwhat is your name\\b|\\bwho are you\\b', user_input):\n",
    "        return \"I'm a simple chatbot created to assist you.\"\n",
    "    elif re.search(r'\\bbye\\b|\\bgoodbye\\b|\\bsee you\\b', user_input):\n",
    "        return \"Goodbye! Have a great day!\"\n",
    "    elif re.search(r'\\bweather\\b|\\bforecast\\b', user_input):\n",
    "        return \"I'm not equipped to provide weather updates at the moment, but you can check your local weather service.\"\n",
    "    elif re.search(r'\\bhelp\\b|\\bassistance\\b', user_input):\n",
    "        return \"Sure! I'm here to help. What do you need assistance with?\"\n",
    "    elif re.search(r'\\bjoke\\b|\\bfunny\\b', user_input):\n",
    "        return \"Why don’t scientists trust atoms? Because they make up everything!\"\n",
    "    elif re.search(r'\\btime\\b|\\bclock\\b', user_input):\n",
    "        return \"I can't provide real-time updates, but you can check the clock on your device.\"\n",
    "    elif re.search(r'\\bdate\\b|\\btoday\\b', user_input):\n",
    "        return \"I'm unable to provide the current date, but you can check it on your device.\"\n",
    "    elif re.search(r'\\bnews\\b|\\bheadlines\\b', user_input):\n",
    "        return \"I can't provide live news updates, but you can check a news website or app.\"\n",
    "    elif re.search(r'\\byour creator\\b|\\bwho made you\\b', user_input):\n",
    "        return \"A team of developers created me to assist you with simple tasks.\"\n",
    "    elif re.search(r'\\bthank you\\b|\\bthanks\\b', user_input):\n",
    "        return \"You're welcome! Is there anything else I can help with?\"\n",
    "    elif re.search(r'\\btell me about\\b|\\bwho is\\b', user_input):\n",
    "        return \"I don't have access to live data, but you can look up information on a search engine.\"\n",
    "    elif re.search(r'\\bhobbies\\b|\\bwhat do you like\\b', user_input):\n",
    "        return \"I enjoy processing data and helping users with their queries.\"\n",
    "    else:\n",
    "        return \"I'm sorry, I don't understand that. Can you please rephrase or ask something else?\"\n"
   ]
  },
  {
   "cell_type": "code",
   "execution_count": 17,
   "id": "8093c9c9-0a90-48bc-93db-9088967dec2c",
   "metadata": {},
   "outputs": [
    {
     "name": "stdout",
     "output_type": "stream",
     "text": [
      "Welcome to the enhanced chatbot. Type 'bye' to exit.\n"
     ]
    },
    {
     "name": "stdin",
     "output_type": "stream",
     "text": [
      "You:  bye\n"
     ]
    },
    {
     "name": "stdout",
     "output_type": "stream",
     "text": [
      "Chatbot: Goodbye! Have a great day!\n"
     ]
    }
   ],
   "source": [
    "def main():\n",
    "    print(\"Welcome to the enhanced chatbot. Type 'bye' to exit.\")\n",
    "\n",
    "    while True:\n",
    "        user_input = input(\"You: \")\n",
    "\n",
    "        if re.search(r'\\bbye\\b|\\bgoodbye\\b|\\bsee you\\b', user_input.lower()):\n",
    "            print(\"Chatbot: Goodbye! Have a great day!\")\n",
    "            break\n",
    "\n",
    "        response = get_response(user_input)\n",
    "        print(\"Chatbot:\", response)\n",
    "\n",
    "if __name__ == \"__main__\":\n",
    "    main()"
   ]
  },
  {
   "cell_type": "code",
   "execution_count": null,
   "id": "02a43a27-c211-4118-a911-e711a143f571",
   "metadata": {},
   "outputs": [],
   "source": []
  }
 ],
 "metadata": {
  "kernelspec": {
   "display_name": "Python 3 (ipykernel)",
   "language": "python",
   "name": "python3"
  },
  "language_info": {
   "codemirror_mode": {
    "name": "ipython",
    "version": 3
   },
   "file_extension": ".py",
   "mimetype": "text/x-python",
   "name": "python",
   "nbconvert_exporter": "python",
   "pygments_lexer": "ipython3",
   "version": "3.12.4"
  }
 },
 "nbformat": 4,
 "nbformat_minor": 5
}
